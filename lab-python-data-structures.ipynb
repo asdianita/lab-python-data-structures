{
 "cells": [
  {
   "cell_type": "markdown",
   "metadata": {
    "tags": []
   },
   "source": [
    "# Lab | Data Structures "
   ]
  },
  {
   "cell_type": "markdown",
   "metadata": {},
   "source": [
    "## Exercise: Managing Customer Orders\n",
    "\n",
    "As part of a business venture, you are starting an online store that sells various products. To ensure smooth operations, you need to develop a program that manages customer orders and inventory.\n",
    "\n",
    "Follow the steps below to complete the exercise:\n",
    "\n",
    "1. Define a list called `products` that contains the following items: \"t-shirt\", \"mug\", \"hat\", \"book\", \"keychain\".\n",
    "\n",
    "2. Create an empty dictionary called `inventory`.\n",
    "\n",
    "3. Ask the user to input the quantity of each product available in the inventory. Use the product names from the `products` list as keys in the `inventory` dictionary and assign the respective quantities as values.\n",
    "\n",
    "4. Create an empty set called `customer_orders`.\n",
    "\n",
    "5. Ask the user to input the name of three products that a customer wants to order (from those in the products list, meaning three products out of \"t-shirt\", \"mug\", \"hat\", \"book\" or \"keychain\". Add each product name to the `customer_orders` set.\n",
    "\n",
    "6. Print the products in the `customer_orders` set.\n",
    "\n",
    "7. Calculate the following order statistics:\n",
    "   - Total Products Ordered: The total number of products in the `customer_orders` set.\n",
    "   - Percentage of Products Ordered: The percentage of products ordered compared to the total available products.\n",
    "   \n",
    "   Store these statistics in a tuple called `order_status`.\n",
    "\n",
    "8. Print the order statistics using the following format:\n",
    "   ```\n",
    "   Order Statistics:\n",
    "   Total Products Ordered: <total_products_ordered>\n",
    "   Percentage of Products Ordered: <percentage_ordered>% \n",
    "   ```\n",
    "\n",
    "9. Update the inventory by subtracting 1 from the quantity of each product. Modify the `inventory` dictionary accordingly.\n",
    "\n",
    "10. Print the updated inventory, displaying the quantity of each product on separate lines.\n",
    "\n",
    "Solve the exercise by implementing the steps using the Python concepts of lists, dictionaries, sets, and basic input/output operations. "
   ]
  },
  {
   "cell_type": "code",
   "execution_count": 54,
   "metadata": {},
   "outputs": [],
   "source": [
    "# 1. Define a list called `products` that contains the following items: \"t-shirt\", \"mug\", \"hat\", \"book\", \"keychain\".\n",
    "\n",
    "products = [\"t-shirt\", \"mug\", \"hat\", \"book\", \"keychain\"]"
   ]
  },
  {
   "cell_type": "code",
   "execution_count": 55,
   "metadata": {},
   "outputs": [],
   "source": [
    "# 2. Create an empty dictionary called `inventory`.\n",
    "\n",
    "inventory = {}"
   ]
  },
  {
   "cell_type": "code",
   "execution_count": 56,
   "metadata": {},
   "outputs": [
    {
     "name": "stdout",
     "output_type": "stream",
     "text": [
      "{'t-shirt': 45, 'mug': 80, 'hat': 120, 'book': 35, 'keychain': 100}\n"
     ]
    }
   ],
   "source": [
    "# 3. Ask the user to input the quantity of each product available in the inventory. Use the product names from the `products` list as keys in the `inventory` dictionary and assign the respective quantities as values.\n",
    "\n",
    "for item in products:\n",
    "    qty = int(input(f\"Enter the quantity of {item}: \"))\n",
    "    inventory[item] = qty\n",
    "\n",
    "print(inventory)"
   ]
  },
  {
   "cell_type": "code",
   "execution_count": 57,
   "metadata": {},
   "outputs": [],
   "source": [
    "# 4. Create an empty set called `customer_orders`.\n",
    "\n",
    "customer_orders = set()"
   ]
  },
  {
   "cell_type": "code",
   "execution_count": 58,
   "metadata": {},
   "outputs": [
    {
     "name": "stdout",
     "output_type": "stream",
     "text": [
      "Please choose three products from the following list:\n",
      "['t-shirt', 'mug', 'hat', 'book', 'keychain']\n"
     ]
    }
   ],
   "source": [
    "# 5. Ask the user to input the name of three products that a customer wants to order \n",
    "# (from those in the products list, meaning three products out of \"t-shirt\", \"mug\", \"hat\", \n",
    "# \"book\" or \"keychain\". Add each product name to the `customer_orders` set.\n",
    "print(\"Please choose three products from the following list:\")\n",
    "print(products)\n",
    "\n",
    "while len(customer_orders)<3:\n",
    "    order = input(\"Please choose a product from the list\")\n",
    "    if order in products:\n",
    "        customer_orders.add(order)   \n"
   ]
  },
  {
   "cell_type": "code",
   "execution_count": 74,
   "metadata": {},
   "outputs": [
    {
     "name": "stdout",
     "output_type": "stream",
     "text": [
      "{'mug', 'keychain', 'hat'}\n"
     ]
    }
   ],
   "source": [
    "# 6. Print the products in the `customer_orders` set.\n",
    "\n",
    "print(customer_orders)"
   ]
  },
  {
   "cell_type": "code",
   "execution_count": 83,
   "metadata": {},
   "outputs": [
    {
     "name": "stdout",
     "output_type": "stream",
     "text": [
      "(30, {'mug': '6.25%', 'keychain': '10.00%', 'hat': '12.50%'})\n"
     ]
    }
   ],
   "source": [
    "# 7. Calculate the following order statistics:\n",
    "#    - Total Products Ordered: The total number of products in the `customer_orders` set.\n",
    "#    - Percentage of Products Ordered: The percentage of products ordered compared to the total available products.\n",
    "   \n",
    "#    Store these statistics in a tuple called `order_status`.\n",
    "purchase = {}\n",
    "for item in customer_orders:\n",
    "    qty = int(input(f\"Enter the quantity of {item} you want to purchase: \"))\n",
    "    while qty > inventory[item] or qty < 0:\n",
    "        print(f\"Sorry, we only have {inventory[item]} units of {item} available\")\n",
    "        qty = int(input(f\"Enter the quantity of {item} you want to purchase: \"))\n",
    "    purchase[item] = qty\n",
    "\n",
    "\n",
    "suma = 0\n",
    "for items in customer_orders:\n",
    "    suma += purchase[items]\n",
    "\n",
    "percentages = {}\n",
    "for items in customer_orders:\n",
    "    percentages[items] = str.format(\"{:.2f}%\", purchase[items]*100/inventory[items])\n",
    "\n",
    "\n",
    "order_status = (suma,percentages)\n"
   ]
  },
  {
   "cell_type": "code",
   "execution_count": 84,
   "metadata": {},
   "outputs": [
    {
     "name": "stdout",
     "output_type": "stream",
     "text": [
      "\n",
      "     Order Statistics:\n",
      "     Total Products Ordered: 30\n",
      "     Percentage of Products Ordered: {'mug': '6.25%', 'keychain': '10.00%', 'hat': '12.50%'} \n"
     ]
    }
   ],
   "source": [
    "# 8. Print the order statistics using the following format:\n",
    "#   ```\n",
    "#    Order Statistics:\n",
    "#    Total Products Ordered: <total_products_ordered>\n",
    "#    Percentage of Products Ordered: <percentage_ordered>% \n",
    "#   ```\n",
    "print(f'''\n",
    "     Order Statistics:\n",
    "     Total Products Ordered: {suma}\n",
    "     Percentage of Products Ordered: {percentages} ''')\n"
   ]
  },
  {
   "cell_type": "code",
   "execution_count": 85,
   "metadata": {},
   "outputs": [
    {
     "name": "stdout",
     "output_type": "stream",
     "text": [
      "{'t-shirt': 45, 'mug': 75, 'hat': 105, 'book': 35, 'keychain': 90}\n"
     ]
    }
   ],
   "source": [
    "# 9. Update the inventory by subtracting 1 from the quantity of each product. Modify the `inventory` dictionary accordingly.\n",
    "\n",
    "# I updated the inventory subtracting the real qty purchased.\n",
    "\n",
    "for item in customer_orders:\n",
    "    inventory[item] -= purchase[item]\n",
    "\n"
   ]
  },
  {
   "cell_type": "code",
   "execution_count": 93,
   "metadata": {},
   "outputs": [
    {
     "name": "stdout",
     "output_type": "stream",
     "text": [
      "Updated inventory:\n",
      "t-shirt 45\n",
      "mug 75\n",
      "hat 105\n",
      "book 35\n",
      "keychain 90\n"
     ]
    }
   ],
   "source": [
    "# 10. Print the updated inventory, displaying the quantity of each product on separate lines.\n",
    "\n",
    "print('Updated inventory:')\n",
    "for clave,valor in inventory.items():\n",
    "    print(clave,valor)"
   ]
  }
 ],
 "metadata": {
  "kernelspec": {
   "display_name": "Python 3 (ipykernel)",
   "language": "python",
   "name": "python3"
  },
  "language_info": {
   "codemirror_mode": {
    "name": "ipython",
    "version": 3
   },
   "file_extension": ".py",
   "mimetype": "text/x-python",
   "name": "python",
   "nbconvert_exporter": "python",
   "pygments_lexer": "ipython3",
   "version": "3.9.1"
  }
 },
 "nbformat": 4,
 "nbformat_minor": 4
}
